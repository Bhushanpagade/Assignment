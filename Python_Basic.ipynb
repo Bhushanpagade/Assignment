{
 "cells": [
  {
   "cell_type": "code",
   "execution_count": 5,
   "id": "9ee29034-8fea-4b14-aaa4-93c74e25366f",
   "metadata": {},
   "outputs": [
    {
     "data": {
      "text/plain": [
       "2"
      ]
     },
     "execution_count": 5,
     "metadata": {},
     "output_type": "execute_result"
    }
   ],
   "source": [
    "1+1"
   ]
  },
  {
   "cell_type": "code",
   "execution_count": 6,
   "id": "eb8a5dac-39b8-4b92-a3d3-ed4967fbc574",
   "metadata": {},
   "outputs": [
    {
     "data": {
      "text/plain": [
       "25"
      ]
     },
     "execution_count": 6,
     "metadata": {},
     "output_type": "execute_result"
    }
   ],
   "source": [
    "5*5"
   ]
  },
  {
   "cell_type": "code",
   "execution_count": 7,
   "id": "6a5ace0d-a942-42df-b00a-fb20f2e58373",
   "metadata": {},
   "outputs": [
    {
     "data": {
      "text/plain": [
       "10"
      ]
     },
     "execution_count": 7,
     "metadata": {},
     "output_type": "execute_result"
    }
   ],
   "source": [
    "a=10\n",
    "a"
   ]
  },
  {
   "cell_type": "code",
   "execution_count": 8,
   "id": "99d30d45-d013-429a-9e16-e051aef3344e",
   "metadata": {},
   "outputs": [
    {
     "data": {
      "text/plain": [
       "20"
      ]
     },
     "execution_count": 8,
     "metadata": {},
     "output_type": "execute_result"
    }
   ],
   "source": [
    "bhus=20\n",
    "bhus"
   ]
  },
  {
   "cell_type": "code",
   "execution_count": 9,
   "id": "c6fdcea1-9a0b-497b-9629-d1ad4349db05",
   "metadata": {},
   "outputs": [
    {
     "data": {
      "text/plain": [
       "30"
      ]
     },
     "execution_count": 9,
     "metadata": {},
     "output_type": "execute_result"
    }
   ],
   "source": [
    "a+bhus"
   ]
  },
  {
   "cell_type": "code",
   "execution_count": 6,
   "id": "e4dcf832-d148-46a3-927d-077ea050b985",
   "metadata": {},
   "outputs": [
    {
     "data": {
      "text/plain": [
       "int"
      ]
     },
     "execution_count": 6,
     "metadata": {},
     "output_type": "execute_result"
    }
   ],
   "source": [
    "type(a)"
   ]
  },
  {
   "cell_type": "code",
   "execution_count": 7,
   "id": "5d6f1e2c-0cdc-428a-a9da-8d5402ab566f",
   "metadata": {},
   "outputs": [
    {
     "data": {
      "text/plain": [
       "2.5"
      ]
     },
     "execution_count": 7,
     "metadata": {},
     "output_type": "execute_result"
    }
   ],
   "source": [
    "b=2.5\n",
    "b"
   ]
  },
  {
   "cell_type": "code",
   "execution_count": 9,
   "id": "40073767-7016-4bb8-b747-1577f07ba777",
   "metadata": {},
   "outputs": [
    {
     "data": {
      "text/plain": [
       "float"
      ]
     },
     "execution_count": 9,
     "metadata": {},
     "output_type": "execute_result"
    }
   ],
   "source": [
    "type(b)\n"
   ]
  },
  {
   "cell_type": "code",
   "execution_count": 10,
   "id": "191b3ef7-1651-49ef-a67f-fc485d24d099",
   "metadata": {},
   "outputs": [
    {
     "data": {
      "text/plain": [
       "'my First code'"
      ]
     },
     "execution_count": 10,
     "metadata": {},
     "output_type": "execute_result"
    }
   ],
   "source": [
    "ab=\"my First code\"\n",
    "ab"
   ]
  },
  {
   "cell_type": "code",
   "execution_count": 11,
   "id": "2277f7d0-a62e-4ede-b078-b10ef8825311",
   "metadata": {},
   "outputs": [
    {
     "data": {
      "text/plain": [
       "str"
      ]
     },
     "execution_count": 11,
     "metadata": {},
     "output_type": "execute_result"
    }
   ],
   "source": [
    "type(ab)\n"
   ]
  },
  {
   "cell_type": "code",
   "execution_count": 12,
   "id": "44508584-8cdb-458a-80ed-cbe78cdc05f1",
   "metadata": {},
   "outputs": [
    {
     "data": {
      "text/plain": [
       "1"
      ]
     },
     "execution_count": 12,
     "metadata": {},
     "output_type": "execute_result"
    }
   ],
   "source": [
    "n=True\n",
    "m=False\n",
    "n+m"
   ]
  },
  {
   "cell_type": "code",
   "execution_count": 13,
   "id": "6e77aab5-40f5-443d-b803-d7ba165da278",
   "metadata": {},
   "outputs": [
    {
     "data": {
      "text/plain": [
       "1"
      ]
     },
     "execution_count": 13,
     "metadata": {},
     "output_type": "execute_result"
    }
   ],
   "source": [
    "True*True"
   ]
  },
  {
   "cell_type": "code",
   "execution_count": 14,
   "id": "4cdc9fd1-1cbd-47e6-8872-7c68e8a4a5ae",
   "metadata": {},
   "outputs": [
    {
     "data": {
      "text/plain": [
       "1"
      ]
     },
     "execution_count": 14,
     "metadata": {},
     "output_type": "execute_result"
    }
   ],
   "source": [
    "True-False"
   ]
  },
  {
   "cell_type": "code",
   "execution_count": 15,
   "id": "6893b928-f3dc-40c7-9065-dcc1fabd3b16",
   "metadata": {},
   "outputs": [
    {
     "data": {
      "text/plain": [
       "1"
      ]
     },
     "execution_count": 15,
     "metadata": {},
     "output_type": "execute_result"
    }
   ],
   "source": [
    "True + False"
   ]
  },
  {
   "cell_type": "code",
   "execution_count": 16,
   "id": "9a5682b3-cf69-4ed1-8af4-796e742cf29a",
   "metadata": {},
   "outputs": [
    {
     "data": {
      "text/plain": [
       "0"
      ]
     },
     "execution_count": 16,
     "metadata": {},
     "output_type": "execute_result"
    }
   ],
   "source": [
    "True*False"
   ]
  },
  {
   "cell_type": "code",
   "execution_count": 17,
   "id": "e2f82092-ada1-4ae5-b445-f8dff702d49d",
   "metadata": {},
   "outputs": [
    {
     "ename": "ZeroDivisionError",
     "evalue": "division by zero",
     "output_type": "error",
     "traceback": [
      "\u001b[0;31m---------------------------------------------------------------------------\u001b[0m",
      "\u001b[0;31mZeroDivisionError\u001b[0m                         Traceback (most recent call last)",
      "Cell \u001b[0;32mIn[17], line 1\u001b[0m\n\u001b[0;32m----> 1\u001b[0m \u001b[38;5;28;43;01mTrue\u001b[39;49;00m\u001b[43m \u001b[49m\u001b[38;5;241;43m/\u001b[39;49m\u001b[43m \u001b[49m\u001b[38;5;28;43;01mFalse\u001b[39;49;00m\n",
      "\u001b[0;31mZeroDivisionError\u001b[0m: division by zero"
     ]
    }
   ],
   "source": [
    "True / False"
   ]
  },
  {
   "cell_type": "code",
   "execution_count": 1,
   "id": "5e93667f-f702-4f77-92c1-d564f8dafc94",
   "metadata": {},
   "outputs": [
    {
     "data": {
      "text/plain": [
       "complex"
      ]
     },
     "execution_count": 1,
     "metadata": {},
     "output_type": "execute_result"
    }
   ],
   "source": [
    "v= 5 + 8j\n",
    "type(v)"
   ]
  },
  {
   "cell_type": "code",
   "execution_count": 2,
   "id": "2ceb0fa3-071f-4e63-a9d9-9672856efe09",
   "metadata": {},
   "outputs": [
    {
     "data": {
      "text/plain": [
       "5.0"
      ]
     },
     "execution_count": 2,
     "metadata": {},
     "output_type": "execute_result"
    }
   ],
   "source": [
    "#### for real number from \n",
    "\n",
    "v.real"
   ]
  },
  {
   "cell_type": "code",
   "execution_count": 3,
   "id": "2d9b22ee-1d43-48a1-acad-6840c60d774e",
   "metadata": {},
   "outputs": [
    {
     "data": {
      "text/plain": [
       "8.0"
      ]
     },
     "execution_count": 3,
     "metadata": {},
     "output_type": "execute_result"
    }
   ],
   "source": [
    "v.imag"
   ]
  },
  {
   "cell_type": "code",
   "execution_count": 1,
   "id": "7cce5376-0f79-4f9d-afc4-acc466b3114f",
   "metadata": {},
   "outputs": [
    {
     "data": {
      "text/plain": [
       "'pwskill'"
      ]
     },
     "execution_count": 1,
     "metadata": {},
     "output_type": "execute_result"
    }
   ],
   "source": [
    "s=\"pwskill\"\n",
    "s"
   ]
  },
  {
   "cell_type": "code",
   "execution_count": 2,
   "id": "dfebe501-1dfc-4b18-a75c-5e223f0fbcfa",
   "metadata": {},
   "outputs": [
    {
     "data": {
      "text/plain": [
       "'k'"
      ]
     },
     "execution_count": 2,
     "metadata": {},
     "output_type": "execute_result"
    }
   ],
   "source": [
    "s[3]"
   ]
  },
  {
   "cell_type": "code",
   "execution_count": 5,
   "id": "5ae50339-32d0-4fad-a771-ed9adef74ba3",
   "metadata": {},
   "outputs": [
    {
     "data": {
      "text/plain": [
       "'l'"
      ]
     },
     "execution_count": 5,
     "metadata": {},
     "output_type": "execute_result"
    }
   ],
   "source": [
    "s[-1]"
   ]
  },
  {
   "cell_type": "code",
   "execution_count": 6,
   "id": "0d5a9bbe-4708-4c57-b743-20795a542dbf",
   "metadata": {},
   "outputs": [
    {
     "data": {
      "text/plain": [
       "'p'"
      ]
     },
     "execution_count": 6,
     "metadata": {},
     "output_type": "execute_result"
    }
   ],
   "source": [
    "s[-7]"
   ]
  },
  {
   "cell_type": "code",
   "execution_count": 7,
   "id": "57d06b9f-64dd-4d0b-95f0-d8f7ad5ffd00",
   "metadata": {},
   "outputs": [
    {
     "data": {
      "text/plain": [
       "'pws'"
      ]
     },
     "execution_count": 7,
     "metadata": {},
     "output_type": "execute_result"
    }
   ],
   "source": [
    "s[0:3]"
   ]
  },
  {
   "cell_type": "code",
   "execution_count": 8,
   "id": "d532fe12-0c63-4fb5-9e74-abc394b14be9",
   "metadata": {},
   "outputs": [
    {
     "data": {
      "text/plain": [
       "'psil'"
      ]
     },
     "execution_count": 8,
     "metadata": {},
     "output_type": "execute_result"
    }
   ],
   "source": [
    "s[0:8:2]"
   ]
  },
  {
   "cell_type": "code",
   "execution_count": 9,
   "id": "651cd580-c57c-4f44-8923-40eec04d6e0f",
   "metadata": {},
   "outputs": [
    {
     "data": {
      "text/plain": [
       "'psil'"
      ]
     },
     "execution_count": 9,
     "metadata": {},
     "output_type": "execute_result"
    }
   ],
   "source": [
    "s[::2]"
   ]
  },
  {
   "cell_type": "code",
   "execution_count": 10,
   "id": "35f73a36-1f6f-4afa-b418-1c51fe694e2b",
   "metadata": {},
   "outputs": [
    {
     "data": {
      "text/plain": [
       "'llikswp'"
      ]
     },
     "execution_count": 10,
     "metadata": {},
     "output_type": "execute_result"
    }
   ],
   "source": [
    "#####Reverse\n",
    "\n",
    "s[::-1]"
   ]
  },
  {
   "cell_type": "code",
   "execution_count": 11,
   "id": "5e767a76-9418-461e-a369-90a4a1762a6d",
   "metadata": {},
   "outputs": [
    {
     "data": {
      "text/plain": [
       "complex"
      ]
     },
     "execution_count": 11,
     "metadata": {},
     "output_type": "execute_result"
    }
   ],
   "source": [
    "v = 5 + 8j\n",
    "type(v)"
   ]
  },
  {
   "cell_type": "code",
   "execution_count": 12,
   "id": "015d17d9-cd8a-47a6-b827-3355e2777cf0",
   "metadata": {},
   "outputs": [
    {
     "data": {
      "text/plain": [
       "5.0"
      ]
     },
     "execution_count": 12,
     "metadata": {},
     "output_type": "execute_result"
    }
   ],
   "source": [
    "v.real"
   ]
  },
  {
   "cell_type": "code",
   "execution_count": 13,
   "id": "349a640c-4abb-4cb8-9183-8207ffe22858",
   "metadata": {},
   "outputs": [
    {
     "data": {
      "text/plain": [
       "8.0"
      ]
     },
     "execution_count": 13,
     "metadata": {},
     "output_type": "execute_result"
    }
   ],
   "source": [
    "v.imag"
   ]
  },
  {
   "cell_type": "code",
   "execution_count": 14,
   "id": "c64715e9-8cda-4563-942d-f43916087cbb",
   "metadata": {},
   "outputs": [
    {
     "name": "stdout",
     "output_type": "stream",
     "text": [
      "this is my string class\n"
     ]
    }
   ],
   "source": [
    "s1=\"this is my string class\"\n",
    "print(s1)"
   ]
  },
  {
   "cell_type": "code",
   "execution_count": 15,
   "id": "e4dacdff-deb7-4731-8310-28355783d965",
   "metadata": {},
   "outputs": [
    {
     "data": {
      "text/plain": [
       "3"
      ]
     },
     "execution_count": 15,
     "metadata": {},
     "output_type": "execute_result"
    }
   ],
   "source": [
    "s1.find (\"s\")"
   ]
  },
  {
   "cell_type": "code",
   "execution_count": 16,
   "id": "d7f156ee-a6a5-409c-a3c1-12a9a19e33da",
   "metadata": {},
   "outputs": [
    {
     "data": {
      "text/plain": [
       "'This Is My String Class'"
      ]
     },
     "execution_count": 16,
     "metadata": {},
     "output_type": "execute_result"
    }
   ],
   "source": [
    "s1.title()"
   ]
  },
  {
   "cell_type": "code",
   "execution_count": 20,
   "id": "e981acee-f4e5-4245-80f0-04107dcd0ecf",
   "metadata": {},
   "outputs": [
    {
     "data": {
      "text/plain": [
       "'This is my string class'"
      ]
     },
     "execution_count": 20,
     "metadata": {},
     "output_type": "execute_result"
    }
   ],
   "source": [
    "s1.capitalize()"
   ]
  },
  {
   "cell_type": "code",
   "execution_count": 21,
   "id": "a112cc58-a6dc-4788-9d36-5142c4e5f9a8",
   "metadata": {},
   "outputs": [
    {
     "data": {
      "text/plain": [
       "'pwskill'"
      ]
     },
     "execution_count": 21,
     "metadata": {},
     "output_type": "execute_result"
    }
   ],
   "source": [
    "s"
   ]
  },
  {
   "cell_type": "code",
   "execution_count": 28,
   "id": "f3c084fb-d62a-4891-9133-cac63aa9e350",
   "metadata": {},
   "outputs": [
    {
     "data": {
      "text/plain": [
       "'pwskillpwskillpwskillpwskill'"
      ]
     },
     "execution_count": 28,
     "metadata": {},
     "output_type": "execute_result"
    }
   ],
   "source": [
    "s * 4"
   ]
  },
  {
   "cell_type": "code",
   "execution_count": 29,
   "id": "62acf533-983f-470c-b52b-c160cb2eb58b",
   "metadata": {},
   "outputs": [
    {
     "data": {
      "text/plain": [
       "\"don't compy and pste my class\""
      ]
     },
     "execution_count": 29,
     "metadata": {},
     "output_type": "execute_result"
    }
   ],
   "source": [
    "\"don't compy and pste my class\""
   ]
  },
  {
   "cell_type": "code",
   "execution_count": 30,
   "id": "b8d519e9-afec-407f-b2fc-ea2b08060e3f",
   "metadata": {},
   "outputs": [
    {
     "data": {
      "text/plain": [
       "'llikswp'"
      ]
     },
     "execution_count": 30,
     "metadata": {},
     "output_type": "execute_result"
    }
   ],
   "source": [
    "#### Is use for moment\n",
    "s[::-1]"
   ]
  },
  {
   "cell_type": "code",
   "execution_count": 31,
   "id": "567c6027-f4ea-42c3-8267-79633bdb47b4",
   "metadata": {},
   "outputs": [],
   "source": [
    "# Ctrl + / aall # for Comment\n",
    "# Bhushan\n",
    "# Bhushan\n",
    "# Bhushan\n",
    "# Bhushan"
   ]
  },
  {
   "cell_type": "code",
   "execution_count": 1,
   "id": "3264a41a-bd15-4f89-90d9-e5d86a7dffff",
   "metadata": {},
   "outputs": [],
   "source": [
    "# 05-05-2023"
   ]
  },
  {
   "cell_type": "code",
   "execution_count": 1,
   "id": "00f4de5a-8b20-4331-9d5c-ec367c0cbc94",
   "metadata": {},
   "outputs": [
    {
     "name": "stdout",
     "output_type": "stream",
     "text": [
      "[1, 345, 45, 'Bhushan', True, (5+7j), 345, 456]\n"
     ]
    }
   ],
   "source": [
    "l = [1, 345, 45, \"Bhushan\", True, 5+7j, 345, 456]\n",
    "print(l)"
   ]
  },
  {
   "cell_type": "code",
   "execution_count": 2,
   "id": "2710d116-f64a-4aeb-95de-ed49f2606c1a",
   "metadata": {},
   "outputs": [
    {
     "data": {
      "text/plain": [
       "list"
      ]
     },
     "execution_count": 2,
     "metadata": {},
     "output_type": "execute_result"
    }
   ],
   "source": [
    "type(l)"
   ]
  },
  {
   "cell_type": "code",
   "execution_count": 3,
   "id": "254622b4-4c4e-47fc-ad5c-1fb3c4a6b54d",
   "metadata": {},
   "outputs": [
    {
     "data": {
      "text/plain": [
       "1"
      ]
     },
     "execution_count": 3,
     "metadata": {},
     "output_type": "execute_result"
    }
   ],
   "source": [
    "l[0]"
   ]
  },
  {
   "cell_type": "code",
   "execution_count": 4,
   "id": "4550b22b-8f0a-49a0-80de-4f8c86770493",
   "metadata": {},
   "outputs": [
    {
     "data": {
      "text/plain": [
       "[1, 345, 45]"
      ]
     },
     "execution_count": 4,
     "metadata": {},
     "output_type": "execute_result"
    }
   ],
   "source": [
    "l[0:3:]"
   ]
  },
  {
   "cell_type": "code",
   "execution_count": 5,
   "id": "ec722deb-2231-4817-8015-5a37a3c957e9",
   "metadata": {},
   "outputs": [
    {
     "data": {
      "text/plain": [
       "[456, 345, (5+7j), True, 'Bhushan', 45, 345, 1]"
      ]
     },
     "execution_count": 5,
     "metadata": {},
     "output_type": "execute_result"
    }
   ],
   "source": [
    "# reverse list\n",
    "\n",
    "l[::-1]"
   ]
  },
  {
   "cell_type": "code",
   "execution_count": 7,
   "id": "3fb59562-6488-4fb3-9622-37657226e2f0",
   "metadata": {},
   "outputs": [
    {
     "data": {
      "text/plain": [
       "[1, 45, True, 345]"
      ]
     },
     "execution_count": 7,
     "metadata": {},
     "output_type": "execute_result"
    }
   ],
   "source": [
    "l[::2]"
   ]
  },
  {
   "cell_type": "code",
   "execution_count": 8,
   "id": "18600ea5-23da-4810-82e7-6ebfcdc82fe1",
   "metadata": {},
   "outputs": [
    {
     "data": {
      "text/plain": [
       "[1, 345, 45, 'Bhushan', True, (5+7j), 345, 456]"
      ]
     },
     "execution_count": 8,
     "metadata": {},
     "output_type": "execute_result"
    }
   ],
   "source": [
    "l"
   ]
  },
  {
   "cell_type": "code",
   "execution_count": 9,
   "id": "107d55ee-8f94-4a7c-ae45-e86fcef607ea",
   "metadata": {},
   "outputs": [
    {
     "data": {
      "text/plain": [
       "'Bhushan'"
      ]
     },
     "execution_count": 9,
     "metadata": {},
     "output_type": "execute_result"
    }
   ],
   "source": [
    "l[3]"
   ]
  },
  {
   "cell_type": "code",
   "execution_count": 13,
   "id": "ad2a7812-5c96-493f-819d-455d1d964993",
   "metadata": {},
   "outputs": [
    {
     "data": {
      "text/plain": [
       "'Bhu'"
      ]
     },
     "execution_count": 13,
     "metadata": {},
     "output_type": "execute_result"
    }
   ],
   "source": [
    "l[3][0:3]\n"
   ]
  },
  {
   "cell_type": "code",
   "execution_count": 20,
   "id": "e80992f1-e191-453e-bf1c-06bbc9ea5557",
   "metadata": {},
   "outputs": [
    {
     "data": {
      "text/plain": [
       "'Tr'"
      ]
     },
     "execution_count": 20,
     "metadata": {},
     "output_type": "execute_result"
    }
   ],
   "source": [
    "str(l[4])[0:2]"
   ]
  },
  {
   "cell_type": "code",
   "execution_count": 21,
   "id": "27e5de9b-2aea-4913-9fad-11a397b9065a",
   "metadata": {},
   "outputs": [
    {
     "data": {
      "text/plain": [
       "[1, 345, 45, 'Bhushan', True, (5+7j), 345, 456, 3, 4, 5]"
      ]
     },
     "execution_count": 21,
     "metadata": {},
     "output_type": "execute_result"
    }
   ],
   "source": [
    "l1 = [3,4,5]\n",
    "l + l1"
   ]
  },
  {
   "cell_type": "code",
   "execution_count": 22,
   "id": "3f4b9d56-e579-409c-9a4f-966e15d7a04c",
   "metadata": {},
   "outputs": [
    {
     "data": {
      "text/plain": [
       "8"
      ]
     },
     "execution_count": 22,
     "metadata": {},
     "output_type": "execute_result"
    }
   ],
   "source": [
    "len(l)"
   ]
  },
  {
   "cell_type": "code",
   "execution_count": 23,
   "id": "8544d88b-0759-46db-bd49-78298fa61bed",
   "metadata": {},
   "outputs": [
    {
     "data": {
      "text/plain": [
       "3"
      ]
     },
     "execution_count": 23,
     "metadata": {},
     "output_type": "execute_result"
    }
   ],
   "source": [
    "len(l1)"
   ]
  },
  {
   "cell_type": "code",
   "execution_count": 24,
   "id": "c774d4fb-e149-45ef-a6cb-5e640d967d9c",
   "metadata": {},
   "outputs": [
    {
     "data": {
      "text/plain": [
       "[3, 4, 5, 54]"
      ]
     },
     "execution_count": 24,
     "metadata": {},
     "output_type": "execute_result"
    }
   ],
   "source": [
    "l1.append(54)\n",
    "l1"
   ]
  },
  {
   "cell_type": "code",
   "execution_count": 26,
   "id": "ebd2529f-4fc6-4603-b526-86ebde68b743",
   "metadata": {},
   "outputs": [],
   "source": [
    "s='pwskill'"
   ]
  },
  {
   "cell_type": "code",
   "execution_count": 28,
   "id": "108f72e3-e02d-4e87-97d9-ceea804299c7",
   "metadata": {},
   "outputs": [],
   "source": [
    "l1.append(s)"
   ]
  },
  {
   "cell_type": "code",
   "execution_count": 29,
   "id": "1d5d1259-8721-409b-a092-c4c4d20e4942",
   "metadata": {},
   "outputs": [
    {
     "data": {
      "text/plain": [
       "[3, 4, 5, 54, 'pwskill']"
      ]
     },
     "execution_count": 29,
     "metadata": {},
     "output_type": "execute_result"
    }
   ],
   "source": [
    "l1"
   ]
  },
  {
   "cell_type": "code",
   "execution_count": 30,
   "id": "ec783e73-aae3-40e0-af51-ecbb70f3a4ad",
   "metadata": {},
   "outputs": [
    {
     "data": {
      "text/plain": [
       "[1, 345, 45, 'Bhushan', True, (5+7j), 345, 456]"
      ]
     },
     "execution_count": 30,
     "metadata": {},
     "output_type": "execute_result"
    }
   ],
   "source": [
    "l"
   ]
  },
  {
   "cell_type": "code",
   "execution_count": 31,
   "id": "51446b21-23cd-46c0-ae05-08355fad0ff9",
   "metadata": {},
   "outputs": [],
   "source": [
    "l.append(l1)"
   ]
  },
  {
   "cell_type": "code",
   "execution_count": 32,
   "id": "d88569ec-4822-4d09-979e-3168cd6bcc6b",
   "metadata": {},
   "outputs": [
    {
     "data": {
      "text/plain": [
       "[1, 345, 45, 'Bhushan', True, (5+7j), 345, 456, [3, 4, 5, 54, 'pwskill']]"
      ]
     },
     "execution_count": 32,
     "metadata": {},
     "output_type": "execute_result"
    }
   ],
   "source": [
    "l\n"
   ]
  },
  {
   "cell_type": "code",
   "execution_count": 37,
   "id": "16bac989-c974-4add-9270-9f8d1841ee36",
   "metadata": {},
   "outputs": [
    {
     "data": {
      "text/plain": [
       "[4]"
      ]
     },
     "execution_count": 37,
     "metadata": {},
     "output_type": "execute_result"
    }
   ],
   "source": [
    "l[8][1:2]"
   ]
  },
  {
   "cell_type": "code",
   "execution_count": 38,
   "id": "a38ecb1c-769f-46dd-bfde-8895a4f25be5",
   "metadata": {},
   "outputs": [
    {
     "data": {
      "text/plain": [
       "4"
      ]
     },
     "execution_count": 38,
     "metadata": {},
     "output_type": "execute_result"
    }
   ],
   "source": [
    "l[8][1]"
   ]
  },
  {
   "cell_type": "code",
   "execution_count": 41,
   "id": "c71dd1ea-4f11-4bac-bbce-6325da1f314a",
   "metadata": {},
   "outputs": [
    {
     "data": {
      "text/plain": [
       "[1,\n",
       " 345,\n",
       " 45,\n",
       " 'Bhushan',\n",
       " True,\n",
       " (5+7j),\n",
       " 345,\n",
       " 456,\n",
       " [3, 4, 5, 54, 'pwskill'],\n",
       " 7,\n",
       " 8,\n",
       " 9,\n",
       " 7,\n",
       " 8,\n",
       " 9]"
      ]
     },
     "execution_count": 41,
     "metadata": {},
     "output_type": "execute_result"
    }
   ],
   "source": [
    "l.extend([7,8,9])\n",
    "l"
   ]
  },
  {
   "cell_type": "markdown",
   "id": "42fdeae6-9230-4265-b5dc-4cbfa1695cda",
   "metadata": {},
   "source": [
    "l "
   ]
  },
  {
   "cell_type": "code",
   "execution_count": 45,
   "id": "eb8aa854-c62e-4044-845f-5ec88e32ea19",
   "metadata": {},
   "outputs": [
    {
     "data": {
      "text/plain": [
       "[3, 4, 5, 54, 'pwskill']"
      ]
     },
     "execution_count": 45,
     "metadata": {},
     "output_type": "execute_result"
    }
   ],
   "source": [
    "l1"
   ]
  },
  {
   "cell_type": "code",
   "execution_count": 46,
   "id": "f083488e-fc46-4c34-84a6-54ee4bff77f0",
   "metadata": {},
   "outputs": [
    {
     "data": {
      "text/plain": [
       "[3, 'Bhushan', 4, 5, 54, 'pwskill']"
      ]
     },
     "execution_count": 46,
     "metadata": {},
     "output_type": "execute_result"
    }
   ],
   "source": [
    "l1.insert(1,\"Bhushan\")\n",
    "l1"
   ]
  },
  {
   "cell_type": "code",
   "execution_count": 47,
   "id": "70e540b2-9dce-422b-94d4-d525d8a57573",
   "metadata": {},
   "outputs": [
    {
     "data": {
      "text/plain": [
       "[3, 'Bhushan', 4, 5, 54, 'Mumbai', 'pwskill']"
      ]
     },
     "execution_count": 47,
     "metadata": {},
     "output_type": "execute_result"
    }
   ],
   "source": [
    "l1.insert(-1,\"Mumbai\")\n",
    "l1"
   ]
  },
  {
   "cell_type": "code",
   "execution_count": 48,
   "id": "5d5927c4-3f3a-4162-96c1-d2e4ce214331",
   "metadata": {},
   "outputs": [
    {
     "data": {
      "text/plain": [
       "'pwskill'"
      ]
     },
     "execution_count": 48,
     "metadata": {},
     "output_type": "execute_result"
    }
   ],
   "source": [
    "l1.pop()"
   ]
  },
  {
   "cell_type": "code",
   "execution_count": 49,
   "id": "e4264770-0bc5-4369-b74e-902bf58b8722",
   "metadata": {},
   "outputs": [
    {
     "data": {
      "text/plain": [
       "[3, 'Bhushan', 4, 5, 54, 'Mumbai']"
      ]
     },
     "execution_count": 49,
     "metadata": {},
     "output_type": "execute_result"
    }
   ],
   "source": [
    "l1"
   ]
  },
  {
   "cell_type": "code",
   "execution_count": 50,
   "id": "704ded2e-72f2-441c-baa9-bad7e39f3010",
   "metadata": {},
   "outputs": [
    {
     "data": {
      "text/plain": [
       "'Bhushan'"
      ]
     },
     "execution_count": 50,
     "metadata": {},
     "output_type": "execute_result"
    }
   ],
   "source": [
    "l1.pop(1)"
   ]
  },
  {
   "cell_type": "code",
   "execution_count": 51,
   "id": "e8896a97-442e-4694-8751-fe4d22370628",
   "metadata": {},
   "outputs": [
    {
     "data": {
      "text/plain": [
       "[3, 4, 5, 54, 'Mumbai']"
      ]
     },
     "execution_count": 51,
     "metadata": {},
     "output_type": "execute_result"
    }
   ],
   "source": [
    "l1"
   ]
  },
  {
   "cell_type": "code",
   "execution_count": 52,
   "id": "d1cd2bcc-df1e-4282-b526-247cdf483eb9",
   "metadata": {},
   "outputs": [],
   "source": [
    "l1.remove(5)"
   ]
  },
  {
   "cell_type": "code",
   "execution_count": 53,
   "id": "7b8c131d-07f3-43c8-a516-0aaecaa6cbcd",
   "metadata": {},
   "outputs": [
    {
     "data": {
      "text/plain": [
       "[3, 4, 54, 'Mumbai']"
      ]
     },
     "execution_count": 53,
     "metadata": {},
     "output_type": "execute_result"
    }
   ],
   "source": [
    "l1"
   ]
  },
  {
   "cell_type": "code",
   "execution_count": 63,
   "id": "3f960366-ee7b-48e6-b324-735a41f728e0",
   "metadata": {},
   "outputs": [
    {
     "data": {
      "text/plain": [
       "[1,\n",
       " 345,\n",
       " 45,\n",
       " 'Bhushan',\n",
       " True,\n",
       " (5+7j),\n",
       " 345,\n",
       " 456,\n",
       " [3, 54, 'Mumbai'],\n",
       " 7,\n",
       " 8,\n",
       " 9,\n",
       " 7,\n",
       " 8,\n",
       " 9]"
      ]
     },
     "execution_count": 63,
     "metadata": {},
     "output_type": "execute_result"
    }
   ],
   "source": [
    "l[8].remove(4)\n",
    "l"
   ]
  },
  {
   "cell_type": "code",
   "execution_count": 68,
   "id": "5abded72-bd4e-4530-bb9f-422f0da8cb6e",
   "metadata": {},
   "outputs": [
    {
     "data": {
      "text/plain": [
       "[3, 54, 'Mumbai']"
      ]
     },
     "execution_count": 68,
     "metadata": {},
     "output_type": "execute_result"
    }
   ],
   "source": [
    "l1.reverse()\n",
    "l1"
   ]
  },
  {
   "cell_type": "code",
   "execution_count": 74,
   "id": "ea74290a-6532-4f0e-9b1d-466d86105409",
   "metadata": {},
   "outputs": [
    {
     "data": {
      "text/plain": [
       "[24, 34, 55, 11, 24, 67, 87, 95, 26]"
      ]
     },
     "execution_count": 74,
     "metadata": {},
     "output_type": "execute_result"
    }
   ],
   "source": [
    "l2 = [24,34,55,11,24,67,87,95,26]\n",
    "l2"
   ]
  },
  {
   "cell_type": "code",
   "execution_count": 76,
   "id": "e221bc3f-1846-4e52-8c66-c74210dd12e9",
   "metadata": {},
   "outputs": [
    {
     "data": {
      "text/plain": [
       "[11, 24, 24, 26, 34, 55, 67, 87, 95]"
      ]
     },
     "execution_count": 76,
     "metadata": {},
     "output_type": "execute_result"
    }
   ],
   "source": [
    "l2.sort()\n",
    "l2"
   ]
  },
  {
   "cell_type": "code",
   "execution_count": 77,
   "id": "05520069-d9b9-4813-9241-f19c68e8efb7",
   "metadata": {},
   "outputs": [
    {
     "data": {
      "text/plain": [
       "[95, 87, 67, 55, 34, 26, 24, 24, 11]"
      ]
     },
     "execution_count": 77,
     "metadata": {},
     "output_type": "execute_result"
    }
   ],
   "source": [
    "l2.sort(reverse = True)\n",
    "l2"
   ]
  },
  {
   "cell_type": "code",
   "execution_count": 83,
   "id": "f8aad5f8-32f2-4b00-a1a1-db9e55ea032b",
   "metadata": {},
   "outputs": [
    {
     "data": {
      "text/plain": [
       "['Bhushan', 'Data Scinece', 'PWSkill', 'BA', 'DS', 'BAB']"
      ]
     },
     "execution_count": 83,
     "metadata": {},
     "output_type": "execute_result"
    }
   ],
   "source": [
    "l4=[\"Bhushan\",\"Data Scinece\",\"PWSkill\",\"BA\",\"DS\",\"BAB\"]\n",
    "l4"
   ]
  },
  {
   "cell_type": "code",
   "execution_count": 84,
   "id": "68f92374-6b90-49ad-ac18-7bfe5ceae0f2",
   "metadata": {},
   "outputs": [
    {
     "data": {
      "text/plain": [
       "3"
      ]
     },
     "execution_count": 84,
     "metadata": {},
     "output_type": "execute_result"
    }
   ],
   "source": [
    "l4.index(\"BA\")"
   ]
  },
  {
   "cell_type": "code",
   "execution_count": 85,
   "id": "f85ab994-152c-4763-9118-951031cd2e58",
   "metadata": {},
   "outputs": [
    {
     "data": {
      "text/plain": [
       "1"
      ]
     },
     "execution_count": 85,
     "metadata": {},
     "output_type": "execute_result"
    }
   ],
   "source": [
    "l4.count(\"BA\")"
   ]
  },
  {
   "cell_type": "code",
   "execution_count": 86,
   "id": "f3fd5f46-536b-40c0-a39f-1d1dcd59dad0",
   "metadata": {},
   "outputs": [
    {
     "data": {
      "text/plain": [
       "['Bhushan', 'Data Scinece', 'PWSkill', 'BA', 'DS', 'BAB', 'Malati']"
      ]
     },
     "execution_count": 86,
     "metadata": {},
     "output_type": "execute_result"
    }
   ],
   "source": [
    "l4.append(\"Malati\")\n",
    "l4"
   ]
  },
  {
   "cell_type": "code",
   "execution_count": 87,
   "id": "63b63daf-e1cd-4713-a8af-45b88fc56980",
   "metadata": {},
   "outputs": [
    {
     "data": {
      "text/plain": [
       "'Malati'"
      ]
     },
     "execution_count": 87,
     "metadata": {},
     "output_type": "execute_result"
    }
   ],
   "source": [
    "l4.pop()"
   ]
  },
  {
   "cell_type": "code",
   "execution_count": 88,
   "id": "29160847-f159-4791-b647-68378d93c2d4",
   "metadata": {},
   "outputs": [
    {
     "data": {
      "text/plain": [
       "['Bhushan', 'Data Scinece', 'PWSkill', 'BA', 'DS', 'BAB']"
      ]
     },
     "execution_count": 88,
     "metadata": {},
     "output_type": "execute_result"
    }
   ],
   "source": [
    "l4\n"
   ]
  },
  {
   "cell_type": "code",
   "execution_count": 89,
   "id": "926d8b36-be32-4451-b7db-c33a85772344",
   "metadata": {},
   "outputs": [
    {
     "data": {
      "text/plain": [
       "[3, 5, 7, 9, 4, 7]"
      ]
     },
     "execution_count": 89,
     "metadata": {},
     "output_type": "execute_result"
    }
   ],
   "source": [
    "l5=[3,5,7,9,4,7,]\n",
    "l5"
   ]
  },
  {
   "cell_type": "code",
   "execution_count": 99,
   "id": "56fea36f-f5e0-41c7-9ba6-6f56e62b39cc",
   "metadata": {},
   "outputs": [
    {
     "data": {
      "text/plain": [
       "[9, 5, 7, 9, 4, 7]"
      ]
     },
     "execution_count": 99,
     "metadata": {},
     "output_type": "execute_result"
    }
   ],
   "source": [
    "l5[0] = 9\n",
    "l5"
   ]
  },
  {
   "cell_type": "code",
   "execution_count": 106,
   "id": "7b2d48ac-77fa-4e04-a799-581e5d5495ea",
   "metadata": {},
   "outputs": [
    {
     "data": {
      "text/plain": [
       "'ghushan'"
      ]
     },
     "execution_count": 106,
     "metadata": {},
     "output_type": "execute_result"
    }
   ],
   "source": [
    "bh=\"bhushan\"\n",
    "bh.replace('b','g')"
   ]
  },
  {
   "cell_type": "code",
   "execution_count": 109,
   "id": "12bcabf9-a4aa-46a6-b50d-f73d01eb09f5",
   "metadata": {},
   "outputs": [
    {
     "data": {
      "text/plain": [
       "(2, 4, 6, 8, 'Bhushan', 45.56, False, 90, 67.75)"
      ]
     },
     "execution_count": 109,
     "metadata": {},
     "output_type": "execute_result"
    }
   ],
   "source": [
    "# TUPLES\n",
    "t = (2,4,6,8,\"Bhushan\",45.56,False,45+45,67.75)\n",
    "t\n"
   ]
  },
  {
   "cell_type": "code",
   "execution_count": 110,
   "id": "fc4d5336-4bec-46ac-a4d6-e0e9725a5b18",
   "metadata": {},
   "outputs": [
    {
     "data": {
      "text/plain": [
       "(67.75, 90, False, 45.56, 'Bhushan', 8, 6, 4, 2)"
      ]
     },
     "execution_count": 110,
     "metadata": {},
     "output_type": "execute_result"
    }
   ],
   "source": [
    "t[::-1]"
   ]
  },
  {
   "cell_type": "code",
   "execution_count": 113,
   "id": "c2818b75-1cc1-4522-9520-a2df03de9931",
   "metadata": {},
   "outputs": [
    {
     "data": {
      "text/plain": [
       "1"
      ]
     },
     "execution_count": 113,
     "metadata": {},
     "output_type": "execute_result"
    }
   ],
   "source": [
    "t.count(90)"
   ]
  },
  {
   "cell_type": "code",
   "execution_count": 114,
   "id": "4e45b17f-7fb9-40e9-9931-50cc44462a0d",
   "metadata": {},
   "outputs": [
    {
     "data": {
      "text/plain": [
       "0"
      ]
     },
     "execution_count": 114,
     "metadata": {},
     "output_type": "execute_result"
    }
   ],
   "source": [
    "t.index(2)"
   ]
  },
  {
   "cell_type": "code",
   "execution_count": 115,
   "id": "a9521d86-e398-47aa-8f08-be4dc5eac421",
   "metadata": {},
   "outputs": [
    {
     "data": {
      "text/plain": [
       "tuple"
      ]
     },
     "execution_count": 115,
     "metadata": {},
     "output_type": "execute_result"
    }
   ],
   "source": [
    "type(t)"
   ]
  },
  {
   "cell_type": "code",
   "execution_count": 118,
   "id": "08050ee0-8956-4082-86f7-2b05e223bea0",
   "metadata": {},
   "outputs": [
    {
     "data": {
      "text/plain": [
       "dict"
      ]
     },
     "execution_count": 118,
     "metadata": {},
     "output_type": "execute_result"
    }
   ],
   "source": [
    "s1={}\n",
    "type(s1)"
   ]
  },
  {
   "cell_type": "code",
   "execution_count": 119,
   "id": "90880541-044f-46d3-ac5c-a8b2def4e959",
   "metadata": {},
   "outputs": [
    {
     "data": {
      "text/plain": [
       "set"
      ]
     },
     "execution_count": 119,
     "metadata": {},
     "output_type": "execute_result"
    }
   ],
   "source": [
    "s2 = {2,3,4,5,6}\n",
    "type(s2)"
   ]
  },
  {
   "cell_type": "code",
   "execution_count": 121,
   "id": "084f65d6-3eac-4a5f-8f6b-d9df7efb74f2",
   "metadata": {},
   "outputs": [
    {
     "data": {
      "text/plain": [
       "{1, 2, 3}"
      ]
     },
     "execution_count": 121,
     "metadata": {},
     "output_type": "execute_result"
    }
   ],
   "source": [
    "# set can given unique output\n",
    "#Indexing ans slicing operation not work for set\n",
    "s3 = {1,2,3,2,3,1,3,2,2,3,1,3}\n",
    "s3"
   ]
  },
  {
   "cell_type": "code",
   "execution_count": 122,
   "id": "fae15b22-b889-460c-bcd8-1eae6693e9b6",
   "metadata": {},
   "outputs": [
    {
     "data": {
      "text/plain": [
       "{1, 2, 3, 4}"
      ]
     },
     "execution_count": 122,
     "metadata": {},
     "output_type": "execute_result"
    }
   ],
   "source": [
    "s3.add(4)\n",
    "s3"
   ]
  },
  {
   "cell_type": "code",
   "execution_count": 123,
   "id": "783c8221-c8c7-4db6-a654-73dcba8620f5",
   "metadata": {},
   "outputs": [],
   "source": [
    "#####################   01st  Feb 2023  ########### "
   ]
  },
  {
   "cell_type": "code",
   "execution_count": 124,
   "id": "d7190814-ac7d-4d84-ba2c-fc7f8f638fc1",
   "metadata": {},
   "outputs": [],
   "source": [
    "#### Dictionary"
   ]
  },
  {
   "cell_type": "code",
   "execution_count": 125,
   "id": "21411b94-dc82-4870-b245-19ed47821c4d",
   "metadata": {},
   "outputs": [
    {
     "data": {
      "text/plain": [
       "dict"
      ]
     },
     "execution_count": 125,
     "metadata": {},
     "output_type": "execute_result"
    }
   ],
   "source": [
    "d = {}\n",
    "type(d)"
   ]
  },
  {
   "cell_type": "code",
   "execution_count": 126,
   "id": "ea50c282-7bdc-4cd7-9dad-56a408e3d58a",
   "metadata": {},
   "outputs": [
    {
     "data": {
      "text/plain": [
       "{'key': 'Bhushan'}"
      ]
     },
     "execution_count": 126,
     "metadata": {},
     "output_type": "execute_result"
    }
   ],
   "source": [
    "d1 = {'key' : 'Bhushan'}\n",
    "d1"
   ]
  },
  {
   "cell_type": "code",
   "execution_count": 127,
   "id": "8b4dab78-d95f-4072-8d40-ceea366b247b",
   "metadata": {},
   "outputs": [
    {
     "data": {
      "text/plain": [
       "{'name': 'Bhushan', 'email': 'bhushanpagade@gmail.com', 'Mob No.': 8369410292}"
      ]
     },
     "execution_count": 127,
     "metadata": {},
     "output_type": "execute_result"
    }
   ],
   "source": [
    "d2 ={ 'name' : 'Bhushan', 'email' : 'bhushanpagade@gmail.com','Mob No.':8369410292}\n",
    "d2"
   ]
  },
  {
   "cell_type": "code",
   "execution_count": 128,
   "id": "638a8286-ad5e-47a1-9d63-812f7bfc3735",
   "metadata": {},
   "outputs": [
    {
     "data": {
      "text/plain": [
       "{234: 'jai shree', '_wer': 'Kumar', True: 234}"
      ]
     },
     "execution_count": 128,
     "metadata": {},
     "output_type": "execute_result"
    }
   ],
   "source": [
    "d3 = {234:'jai shree' , '_wer':'Kumar', True: 234 }\n",
    "d3"
   ]
  },
  {
   "cell_type": "code",
   "execution_count": 130,
   "id": "9e4e9f46-040c-4321-a328-8867a42977fe",
   "metadata": {},
   "outputs": [
    {
     "data": {
      "text/plain": [
       "234"
      ]
     },
     "execution_count": 130,
     "metadata": {},
     "output_type": "execute_result"
    }
   ],
   "source": [
    "d3[True]"
   ]
  },
  {
   "cell_type": "code",
   "execution_count": 133,
   "id": "30ad6997-e34f-4dfd-a92e-f9a1b15e3109",
   "metadata": {},
   "outputs": [
    {
     "data": {
      "text/plain": [
       "{'company': 'pwskill', 'course': ['Web Dev', 'Data Science', 'Java with dsa']}"
      ]
     },
     "execution_count": 133,
     "metadata": {},
     "output_type": "execute_result"
    }
   ],
   "source": [
    "d5 = {\"company\":'pwskill', 'course':['Web Dev',\"Data Science\",\"Java with dsa\"]}\n",
    "d5"
   ]
  },
  {
   "cell_type": "code",
   "execution_count": 136,
   "id": "f5e86052-d085-4518-96dc-f8b0025c520e",
   "metadata": {},
   "outputs": [
    {
     "data": {
      "text/plain": [
       "'Java with dsa'"
      ]
     },
     "execution_count": 136,
     "metadata": {},
     "output_type": "execute_result"
    }
   ],
   "source": [
    "d5['course'][2]"
   ]
  },
  {
   "cell_type": "code",
   "execution_count": 11,
   "id": "ceb9ae8b-276c-475a-888c-6f547af34103",
   "metadata": {},
   "outputs": [
    {
     "data": {
      "text/plain": [
       "{'NUMBER': [2, 24, 34, 35, 56],\n",
       " 'assignment': (1, 2, 3, 4, 5, 6),\n",
       " 'launch date': {24, 26, 30},\n",
       " 'class_time': {'Web Develp': 8, 'DS': 6, 'Java': 9}}"
      ]
     },
     "execution_count": 11,
     "metadata": {},
     "output_type": "execute_result"
    }
   ],
   "source": [
    "d6 = { 'NUMBER' : [2,24,34,35,56], 'assignment' : (1,2,3,4,5,6), 'launch date' : {24,26,30}, 'class_time' : { 'Web Develp' : 8, 'DS' :6, 'Java' : 9}}\n",
    "d6"
   ]
  },
  {
   "cell_type": "code",
   "execution_count": 12,
   "id": "4c15dd05-097e-4026-a5c2-be51798977a6",
   "metadata": {},
   "outputs": [
    {
     "data": {
      "text/plain": [
       "9"
      ]
     },
     "execution_count": 12,
     "metadata": {},
     "output_type": "execute_result"
    }
   ],
   "source": [
    "d6['class_time']['Java']"
   ]
  },
  {
   "cell_type": "code",
   "execution_count": 13,
   "id": "1dd62e54-f887-45ce-8c55-103b36388e77",
   "metadata": {},
   "outputs": [
    {
     "data": {
      "text/plain": [
       "{'NUMBER': [2, 24, 34, 35, 56],\n",
       " 'assignment': (1, 2, 3, 4, 5, 6),\n",
       " 'launch date': {24, 26, 30},\n",
       " 'class_time': {'Web Develp': 8, 'DS': 6, 'Java': 9},\n",
       " 'mentor': ['Bhushan', 'Ramesh', 'Rakesh', 'Ramu']}"
      ]
     },
     "execution_count": 13,
     "metadata": {},
     "output_type": "execute_result"
    }
   ],
   "source": [
    "#### Add new key\n",
    "d6['mentor'] = [\"Bhushan\",\"Ramesh\",\"Rakesh\",\"Ramu\"]\n",
    "d6"
   ]
  },
  {
   "cell_type": "code",
   "execution_count": 14,
   "id": "c78ca47e-c1d0-4cc0-b4d3-b9884b76e3fb",
   "metadata": {},
   "outputs": [
    {
     "data": {
      "text/plain": [
       "{'assignment': (1, 2, 3, 4, 5, 6),\n",
       " 'launch date': {24, 26, 30},\n",
       " 'class_time': {'Web Develp': 8, 'DS': 6, 'Java': 9},\n",
       " 'mentor': ['Bhushan', 'Ramesh', 'Rakesh', 'Ramu']}"
      ]
     },
     "execution_count": 14,
     "metadata": {},
     "output_type": "execute_result"
    }
   ],
   "source": [
    "##### for delete\n",
    "del d6['NUMBER']\n",
    "d6"
   ]
  },
  {
   "cell_type": "code",
   "execution_count": 143,
   "id": "b6e6523a-8279-438b-b328-eff0afb7397c",
   "metadata": {},
   "outputs": [
    {
     "data": {
      "text/plain": [
       "dict_keys(['assignment', 'launch date', 'class_time', 'mentor'])"
      ]
     },
     "execution_count": 143,
     "metadata": {},
     "output_type": "execute_result"
    }
   ],
   "source": [
    "d6.keys()"
   ]
  },
  {
   "cell_type": "code",
   "execution_count": 144,
   "id": "a7bf7a98-f4fc-442a-b9c5-b4d029f772ed",
   "metadata": {},
   "outputs": [
    {
     "data": {
      "text/plain": [
       "['assignment', 'launch date', 'class_time', 'mentor']"
      ]
     },
     "execution_count": 144,
     "metadata": {},
     "output_type": "execute_result"
    }
   ],
   "source": [
    "list(d6.keys())"
   ]
  },
  {
   "cell_type": "code",
   "execution_count": 146,
   "id": "57a378d8-43ee-4950-b0c4-a8f6a8416dad",
   "metadata": {},
   "outputs": [
    {
     "data": {
      "text/plain": [
       "[(1, 2, 3, 4, 5, 6),\n",
       " {24, 26, 30},\n",
       " {'Web Develp': 8, 'DS': 6, 'Java': 9},\n",
       " ['Bhushan', 'Ramesh', 'Rakesh', 'Ramu']]"
      ]
     },
     "execution_count": 146,
     "metadata": {},
     "output_type": "execute_result"
    }
   ],
   "source": [
    "list(d6.values())"
   ]
  },
  {
   "cell_type": "code",
   "execution_count": 15,
   "id": "20dcb2ca-40f7-449d-baf3-2f01848047fa",
   "metadata": {},
   "outputs": [
    {
     "data": {
      "text/plain": [
       "[('assignment', (1, 2, 3, 4, 5, 6)),\n",
       " ('launch date', {24, 26, 30}),\n",
       " ('class_time', {'Web Develp': 8, 'DS': 6, 'Java': 9}),\n",
       " ('mentor', ['Bhushan', 'Ramesh', 'Rakesh', 'Ramu'])]"
      ]
     },
     "execution_count": 15,
     "metadata": {},
     "output_type": "execute_result"
    }
   ],
   "source": [
    "list(d6.items())"
   ]
  },
  {
   "cell_type": "code",
   "execution_count": 16,
   "id": "2188d430-249b-4501-9e87-ba6b69ec1ec0",
   "metadata": {},
   "outputs": [
    {
     "data": {
      "text/plain": [
       "(1, 2, 3, 4, 5, 6)"
      ]
     },
     "execution_count": 16,
     "metadata": {},
     "output_type": "execute_result"
    }
   ],
   "source": [
    "d6.pop('assignment')"
   ]
  },
  {
   "cell_type": "code",
   "execution_count": 152,
   "id": "cb2022ff-4cf2-4957-8495-7ddedeb51088",
   "metadata": {},
   "outputs": [
    {
     "data": {
      "text/plain": [
       "{'launch date': {24, 26, 30},\n",
       " 'class_time': {'Web Develp': 8, 'DS': 6, 'Java': 9},\n",
       " 'mentor': ['Bhushan', 'Ramesh', 'Rakesh', 'Ramu']}"
      ]
     },
     "execution_count": 152,
     "metadata": {},
     "output_type": "execute_result"
    }
   ],
   "source": [
    "d6"
   ]
  },
  {
   "cell_type": "code",
   "execution_count": 17,
   "id": "b163b8ad-54c5-440f-bce4-b1fad46f07fd",
   "metadata": {},
   "outputs": [
    {
     "name": "stdin",
     "output_type": "stream",
     "text": [
      "Enter Your Marks 45\n"
     ]
    },
    {
     "name": "stdout",
     "output_type": "stream",
     "text": [
      "you will be part of A2 batch\n"
     ]
    }
   ],
   "source": [
    "##### if condition\n",
    "marks = int(input(\"Enter Your Marks\"))\n",
    "if marks >= 80 :\n",
    "    print(\"you will be part of A0 batch\")\n",
    "elif marks >=60 and marks <80:\n",
    "    print(\"you will be part of A1 batch\")\n",
    "elif marks >=40 and marks <60:\n",
    "    print(\"you will be part of A2 batch\")\n",
    "else :\n",
    "    print(\"you will be part of A3 batch\")\n",
    "    "
   ]
  },
  {
   "cell_type": "code",
   "execution_count": 3,
   "id": "33960271-d36d-4493-a76e-ea34b550592b",
   "metadata": {},
   "outputs": [
    {
     "name": "stdin",
     "output_type": "stream",
     "text": [
      "Enter Price 12000\n"
     ]
    },
    {
     "name": "stdout",
     "output_type": "stream",
     "text": [
      "i will not purchase\n"
     ]
    }
   ],
   "source": [
    "price = int(input(\"Enter Price\"))\n",
    "if price > 5000:\n",
    "    print(\"i will not purchase\")\n",
    "else :\n",
    "    print('i will purchase')"
   ]
  },
  {
   "cell_type": "code",
   "execution_count": 7,
   "id": "03b29535-cff7-458a-9c39-db425479c079",
   "metadata": {},
   "outputs": [
    {
     "name": "stdin",
     "output_type": "stream",
     "text": [
      "Enter Price 7000\n"
     ]
    },
    {
     "name": "stdout",
     "output_type": "stream",
     "text": [
      "i will not purchase\n",
      "this is too much\n"
     ]
    }
   ],
   "source": [
    "#### Condition k under condition\n",
    "price = int(input(\"Enter Price\"))\n",
    "if price > 1000:\n",
    "    print(\"i will not purchase\")\n",
    "    if price > 5000:\n",
    "        print('this is too much')"
   ]
  },
  {
   "cell_type": "raw",
   "id": "670c20f2-6975-4e83-b01b-ad2394d7971e",
   "metadata": {},
   "source": [
    "#### Loop  ####"
   ]
  },
  {
   "cell_type": "code",
   "execution_count": 8,
   "id": "7edc4426-6b45-4645-85e7-eb2ff6950e8e",
   "metadata": {},
   "outputs": [
    {
     "data": {
      "text/plain": [
       "[1, 2, 3, 4, 5, 6, 7, 8, 9, 10]"
      ]
     },
     "execution_count": 8,
     "metadata": {},
     "output_type": "execute_result"
    }
   ],
   "source": [
    "l = [1,2,3,4,5,6,7,8,9,10]\n"
   ]
  },
  {
   "cell_type": "code",
   "execution_count": 9,
   "id": "d5642781-7804-4734-86d8-56c6ec42adfb",
   "metadata": {},
   "outputs": [
    {
     "name": "stdout",
     "output_type": "stream",
     "text": [
      "1\n",
      "2\n",
      "3\n",
      "4\n",
      "5\n",
      "6\n",
      "7\n",
      "8\n",
      "9\n",
      "10\n"
     ]
    }
   ],
   "source": [
    "for i in l:\n",
    "    print(i)"
   ]
  },
  {
   "cell_type": "code",
   "execution_count": 16,
   "id": "8066cbd2-240c-4843-8b84-93cb73fa047b",
   "metadata": {},
   "outputs": [
    {
     "name": "stdout",
     "output_type": "stream",
     "text": [
      "2\n",
      "3\n",
      "4\n",
      "5\n",
      "6\n",
      "7\n",
      "8\n",
      "9\n",
      "10\n",
      "11\n"
     ]
    }
   ],
   "source": [
    "for i in l:\n",
    "    print(i+1)"
   ]
  },
  {
   "cell_type": "code",
   "execution_count": 24,
   "id": "6ef2ebcc-81ed-4408-a051-e65c52100e4e",
   "metadata": {},
   "outputs": [
    {
     "data": {
      "text/plain": [
       "[2, 3, 4, 5, 6, 7, 8, 9, 10, 11]"
      ]
     },
     "execution_count": 24,
     "metadata": {},
     "output_type": "execute_result"
    }
   ],
   "source": [
    "l1 = []\n",
    "for i in l:\n",
    "    l1.append(i+1)\n",
    "    \n",
    "l1"
   ]
  },
  {
   "cell_type": "code",
   "execution_count": 28,
   "id": "f7944f13-bba3-4fa3-b5cf-cfb89de37db1",
   "metadata": {},
   "outputs": [
    {
     "data": {
      "text/plain": [
       "['bhushan', 'pagade', 'pwskill', 'course']"
      ]
     },
     "execution_count": 28,
     "metadata": {},
     "output_type": "execute_result"
    }
   ],
   "source": [
    "l=['bhushan','pagade','pwskill','course']\n",
    "l"
   ]
  },
  {
   "cell_type": "code",
   "execution_count": 36,
   "id": "b206fb3d-3bbe-4b6f-89db-5264ad9b0df5",
   "metadata": {},
   "outputs": [
    {
     "data": {
      "text/plain": [
       "['BHUSHAN', 'PAGADE', 'PWSKILL', 'COURSE']"
      ]
     },
     "execution_count": 36,
     "metadata": {},
     "output_type": "execute_result"
    }
   ],
   "source": [
    "l1=[]\n",
    "\n",
    "for i in l:\n",
    "    l1.append(i.upper())\n",
    "    \n",
    "l1   "
   ]
  },
  {
   "cell_type": "code",
   "execution_count": 39,
   "id": "f25ddbda-a7b7-4bf3-b2a9-27db30aaa194",
   "metadata": {},
   "outputs": [
    {
     "name": "stdout",
     "output_type": "stream",
     "text": [
      "bhushan\n",
      "pagade\n",
      "pwskill\n",
      "course\n"
     ]
    }
   ],
   "source": [
    "for i in l:\n",
    "    print(i)"
   ]
  },
  {
   "cell_type": "code",
   "execution_count": 56,
   "id": "480d07b7-d2f5-4069-9a3b-717d8806d070",
   "metadata": {},
   "outputs": [
    {
     "data": {
      "text/plain": [
       "[1, 2, 3, 4, 5, 'Bhushan', 'Pagade', 123, 234, 345, 12.23, 'ABC']"
      ]
     },
     "execution_count": 56,
     "metadata": {},
     "output_type": "execute_result"
    }
   ],
   "source": [
    "l = [1,2,3,4,5,\"Bhushan\",\"Pagade\",123,234,345,12.23,\"ABC\"]\n",
    "l"
   ]
  },
  {
   "cell_type": "code",
   "execution_count": 64,
   "id": "46136a68-1391-4f1f-af05-3313831655ff",
   "metadata": {},
   "outputs": [],
   "source": [
    "l1_int =[]\n",
    "l2_str =[]\n",
    "\n",
    "for i in l:\n",
    "    if type(i) == int or type(i) == float:\n",
    "        l1_int.append(i)\n",
    "    elif type(i) == str:\n",
    "        l2_str.append(i)\n",
    "    else :\n",
    "        l2_str.append(i)"
   ]
  },
  {
   "cell_type": "code",
   "execution_count": 65,
   "id": "9817a39a-658d-4af4-b815-b2dcf392b8dc",
   "metadata": {},
   "outputs": [
    {
     "data": {
      "text/plain": [
       "[1, 2, 3, 4, 5, 123, 234, 345, 12.23]"
      ]
     },
     "execution_count": 65,
     "metadata": {},
     "output_type": "execute_result"
    }
   ],
   "source": [
    "l1_int"
   ]
  },
  {
   "cell_type": "code",
   "execution_count": 66,
   "id": "3f4c07bd-4d51-4e20-ae0d-e7350c96235c",
   "metadata": {},
   "outputs": [
    {
     "data": {
      "text/plain": [
       "['Bhushan', 'Pagade', 'ABC']"
      ]
     },
     "execution_count": 66,
     "metadata": {},
     "output_type": "execute_result"
    }
   ],
   "source": [
    "l2_str"
   ]
  },
  {
   "cell_type": "code",
   "execution_count": null,
   "id": "cb0cd295-623a-40aa-ab1c-c86a0cf866f7",
   "metadata": {},
   "outputs": [],
   "source": [
    "100 + Sample"
   ]
  }
 ],
 "metadata": {
  "kernelspec": {
   "display_name": "Python 3 (ipykernel)",
   "language": "python",
   "name": "python3"
  },
  "language_info": {
   "codemirror_mode": {
    "name": "ipython",
    "version": 3
   },
   "file_extension": ".py",
   "mimetype": "text/x-python",
   "name": "python",
   "nbconvert_exporter": "python",
   "pygments_lexer": "ipython3",
   "version": "3.10.8"
  }
 },
 "nbformat": 4,
 "nbformat_minor": 5
}
